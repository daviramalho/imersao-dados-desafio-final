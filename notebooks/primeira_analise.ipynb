{
 "cells": [
  {
   "cell_type": "markdown",
   "id": "f3510c1f",
   "metadata": {},
   "source": [
    "<h1 align = \"center\"> DESAFIO FINAL - DATA SCIENCE </h1>\n",
    "<h3 align = \"center\">  Imersão Dados Alura </h3>\n",
    "\n",
    "------\n",
    "<div align = \"center\">\n",
    "<div>\n",
    "<img src = \"../imagens/og-imersao-alura.1616501197.png\" alt = \"Logo_Imersao\" width = \"800\" /></div>\n",
    "</div>\n",
    "\n",
    "------\n",
    "by Davi Ramalho - 09.05.2021"
   ]
  },
  {
   "cell_type": "code",
   "execution_count": null,
   "id": "d896231b",
   "metadata": {},
   "outputs": [],
   "source": []
  }
 ],
 "metadata": {
  "kernelspec": {
   "display_name": "Python 3",
   "language": "python",
   "name": "python3"
  },
  "language_info": {
   "codemirror_mode": {
    "name": "ipython",
    "version": 3
   },
   "file_extension": ".py",
   "mimetype": "text/x-python",
   "name": "python",
   "nbconvert_exporter": "python",
   "pygments_lexer": "ipython3",
   "version": "3.9.4"
  }
 },
 "nbformat": 4,
 "nbformat_minor": 5
}
